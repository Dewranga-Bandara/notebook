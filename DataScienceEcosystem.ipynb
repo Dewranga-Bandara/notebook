{
  "nbformat": 4,
  "nbformat_minor": 0,
  "metadata": {
    "colab": {
      "provenance": []
    },
    "kernelspec": {
      "name": "python3",
      "display_name": "Python 3"
    },
    "language_info": {
      "name": "python"
    }
  },
  "cells": [
    {
      "cell_type": "markdown",
      "source": [
        "<h1>Data Science Tools and Ecosystem</h1>"
      ],
      "metadata": {
        "id": "PV1fUd9-buWJ"
      }
    },
    {
      "cell_type": "markdown",
      "source": [
        "In this notebook, Data Science Tools and Ecosystem are summarized."
      ],
      "metadata": {
        "id": "l_pjwk8ScTSQ"
      }
    },
    {
      "cell_type": "markdown",
      "source": [
        "Some of the popular languages that Data Scientists use are:\n",
        "\n",
        "\n",
        "1.   Python\n",
        "2.   R\n",
        "3.   SQL\n",
        "\n",
        "\n",
        "\n",
        "\n",
        "\n"
      ],
      "metadata": {
        "id": "Gndhf8KTc74_"
      }
    },
    {
      "cell_type": "markdown",
      "source": [
        "Some of the commonly used libraries used by Data Scientists include:\n",
        "\n",
        "\n",
        "1.   Numpy\n",
        "2.   Pandas\n",
        "3.   Pytorch\n",
        "\n"
      ],
      "metadata": {
        "id": "CRe_3H0aer3z"
      }
    },
    {
      "cell_type": "markdown",
      "source": [
        "| Data Science Tools   |\n",
        "|----------------------|\n",
        "| Jupyter Notebook     |\n",
        "| RStudio              |\n",
        "| Apache Zeppelin      |\n",
        "| Google Colab         |\n",
        "| IBM Watson Studio    |\n"
      ],
      "metadata": {
        "id": "JfVHJXfnfPpE"
      }
    },
    {
      "cell_type": "markdown",
      "source": [
        "<h3>Below are a few examples of evaluating arithmetic expressions in Python.</h3>\n",
        "\n"
      ],
      "metadata": {
        "id": "wanX1O6XgTUr"
      }
    },
    {
      "cell_type": "code",
      "source": [
        "# This a simple arithmetic expression to mutiply then add integers\n",
        "(3*4)+5\n"
      ],
      "metadata": {
        "colab": {
          "base_uri": "https://localhost:8080/"
        },
        "id": "kJ1EEcpEglYU",
        "outputId": "975f17ad-2158-4171-9eff-0603833bccbd"
      },
      "execution_count": 3,
      "outputs": [
        {
          "output_type": "execute_result",
          "data": {
            "text/plain": [
              "17"
            ]
          },
          "metadata": {},
          "execution_count": 3
        }
      ]
    },
    {
      "cell_type": "code",
      "source": [
        "# This will convert 200 minutes to hours by diving by 60\n",
        "200 / 60"
      ],
      "metadata": {
        "colab": {
          "base_uri": "https://localhost:8080/"
        },
        "id": "-W7yS2AFhBYj",
        "outputId": "59a348d1-fd67-4a44-a782-282e3149601e"
      },
      "execution_count": 4,
      "outputs": [
        {
          "output_type": "execute_result",
          "data": {
            "text/plain": [
              "3.3333333333333335"
            ]
          },
          "metadata": {},
          "execution_count": 4
        }
      ]
    },
    {
      "cell_type": "markdown",
      "source": [
        "<b>Objectives:</b>\n",
        "\n",
        "\n",
        "*   List popular languages for Data Science\n",
        "*   List popular libraries for Data Science\n",
        "*   List popular tools for Data Science\n",
        "\n",
        "\n"
      ],
      "metadata": {
        "id": "Bw0meVuqhcrd"
      }
    },
    {
      "cell_type": "markdown",
      "source": [
        "<h2>Author</h2>\n",
        "C.D. Bandara"
      ],
      "metadata": {
        "id": "ck3PQeR6iTq8"
      }
    }
  ]
}